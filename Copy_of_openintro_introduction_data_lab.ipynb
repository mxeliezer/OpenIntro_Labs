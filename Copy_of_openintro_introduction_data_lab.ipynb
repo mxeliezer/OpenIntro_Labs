{
  "nbformat": 4,
  "nbformat_minor": 0,
  "metadata": {
    "colab": {
      "name": "Copy of openintro_introduction_data_lab.ipynb",
      "provenance": [],
      "collapsed_sections": []
    },
    "kernelspec": {
      "name": "ir",
      "display_name": "R"
    }
  },
  "cells": [
    {
      "cell_type": "markdown",
      "metadata": {
        "id": "9msXeTRW5UeX",
        "colab_type": "text"
      },
      "source": [
        "# OpenIntro Lab - Introduction to data #\n",
        "\n",
        "This notebook is one of the first steps in the process is to summarize and describe the raw information - the data. It is part of the first set of **OpenIntro** labs, that are part of the study of the book: **Introductory Statistics with Randomization and Simulation**. Lab avaliable from: [Introducton to Data](https://htmlpreview.github.io/?https://github.com/andrewpbray/oiLabs-base-R/blob/master/intro_to_data/intro_to_data.html)\n",
        "\n",
        "We will use a data set collected by the **Centers for Disease Control and Prevention** (CDC), called **The Behavioral Risk Factor Surveillance System** (BRFSS). Avaliable from: [BRFSS](http://www.cdc.gov/brfss).\n",
        "\n",
        "We will focus on a random sample of 20,000 people from the BRFSS survey conducted in 2000. While there are over 200 variables in this data set, we will work with a small subset."
      ]
    },
    {
      "cell_type": "code",
      "metadata": {
        "id": "M8lBMVSM9MeP",
        "colab_type": "code",
        "colab": {}
      },
      "source": [
        "source(\"http://www.openintro.org/stat/data/cdc.R\")"
      ],
      "execution_count": 0,
      "outputs": []
    },
    {
      "cell_type": "markdown",
      "metadata": {
        "id": "KRL4RvG7_RmO",
        "colab_type": "text"
      },
      "source": [
        "### **Exercise 1** ### \n",
        "How many cases are there in this data set? How many variables? For each variable, identify its data type (e.g. categorical, discrete)."
      ]
    },
    {
      "cell_type": "code",
      "metadata": {
        "id": "OqxuRihY9kBs",
        "colab_type": "code",
        "outputId": "fcdf96c6-c2d2-4126-a738-97825a7b66fd",
        "colab": {
          "base_uri": "https://localhost:8080/",
          "height": 34
        }
      },
      "source": [
        "names(cdc) "
      ],
      "execution_count": 0,
      "outputs": [
        {
          "output_type": "display_data",
          "data": {
            "text/plain": [
              "[1] \"genhlth\"  \"exerany\"  \"hlthplan\" \"smoke100\" \"height\"   \"weight\"   \"wtdesire\"\n",
              "[8] \"age\"      \"gender\"  "
            ],
            "text/latex": "\\begin{enumerate*}\n\\item 'genhlth'\n\\item 'exerany'\n\\item 'hlthplan'\n\\item 'smoke100'\n\\item 'height'\n\\item 'weight'\n\\item 'wtdesire'\n\\item 'age'\n\\item 'gender'\n\\end{enumerate*}\n",
            "text/markdown": "1. 'genhlth'\n2. 'exerany'\n3. 'hlthplan'\n4. 'smoke100'\n5. 'height'\n6. 'weight'\n7. 'wtdesire'\n8. 'age'\n9. 'gender'\n\n\n",
            "text/html": [
              "<style>\n",
              ".list-inline {list-style: none; margin:0; padding: 0}\n",
              ".list-inline>li {display: inline-block}\n",
              ".list-inline>li:not(:last-child)::after {content: \"\\00b7\"; padding: 0 .5ex}\n",
              "</style>\n",
              "<ol class=list-inline><li>'genhlth'</li><li>'exerany'</li><li>'hlthplan'</li><li>'smoke100'</li><li>'height'</li><li>'weight'</li><li>'wtdesire'</li><li>'age'</li><li>'gender'</li></ol>\n"
            ]
          },
          "metadata": {
            "tags": []
          }
        }
      ]
    },
    {
      "cell_type": "code",
      "metadata": {
        "id": "DaLPy1ufLtzz",
        "colab_type": "code",
        "colab": {
          "base_uri": "https://localhost:8080/",
          "height": 69
        },
        "outputId": "fce32d67-f2c9-419f-d80b-18cea48ebf77"
      },
      "source": [
        "class(cdc$genhlth)\n",
        "class(cdc$exerany)\n",
        "class(cdc$weight)"
      ],
      "execution_count": 31,
      "outputs": [
        {
          "output_type": "display_data",
          "data": {
            "text/plain": [
              "[1] \"factor\""
            ],
            "text/latex": "'factor'",
            "text/markdown": "'factor'",
            "text/html": [
              "'factor'"
            ]
          },
          "metadata": {
            "tags": []
          }
        },
        {
          "output_type": "display_data",
          "data": {
            "text/plain": [
              "[1] \"numeric\""
            ],
            "text/latex": "'numeric'",
            "text/markdown": "'numeric'",
            "text/html": [
              "'numeric'"
            ]
          },
          "metadata": {
            "tags": []
          }
        },
        {
          "output_type": "display_data",
          "data": {
            "text/plain": [
              "[1] \"integer\""
            ],
            "text/latex": "'integer'",
            "text/markdown": "'integer'",
            "text/html": [
              "'integer'"
            ]
          },
          "metadata": {
            "tags": []
          }
        }
      ]
    },
    {
      "cell_type": "code",
      "metadata": {
        "id": "UvCKSKGf-3i7",
        "colab_type": "code",
        "colab": {
          "base_uri": "https://localhost:8080/",
          "height": 207
        },
        "outputId": "f9d69641-8fd1-4c7e-cafb-d48b5b69fab4"
      },
      "source": [
        "head(cdc)"
      ],
      "execution_count": 3,
      "outputs": [
        {
          "output_type": "display_data",
          "data": {
            "text/plain": [
              "  genhlth   exerany hlthplan smoke100 height weight wtdesire age gender\n",
              "1 good      0       1        0        70     175    175      77  m     \n",
              "2 good      0       1        1        64     125    115      33  f     \n",
              "3 good      1       1        1        60     105    105      49  f     \n",
              "4 good      1       1        0        66     132    124      42  f     \n",
              "5 very good 0       1        0        61     150    130      55  f     \n",
              "6 very good 1       1        0        64     114    114      55  f     "
            ],
            "text/latex": "A data.frame: 6 × 9\n\\begin{tabular}{r|lllllllll}\n  & genhlth & exerany & hlthplan & smoke100 & height & weight & wtdesire & age & gender\\\\\n  & <fct> & <dbl> & <dbl> & <dbl> & <dbl> & <int> & <int> & <int> & <fct>\\\\\n\\hline\n\t1 & good      & 0 & 1 & 0 & 70 & 175 & 175 & 77 & m\\\\\n\t2 & good      & 0 & 1 & 1 & 64 & 125 & 115 & 33 & f\\\\\n\t3 & good      & 1 & 1 & 1 & 60 & 105 & 105 & 49 & f\\\\\n\t4 & good      & 1 & 1 & 0 & 66 & 132 & 124 & 42 & f\\\\\n\t5 & very good & 0 & 1 & 0 & 61 & 150 & 130 & 55 & f\\\\\n\t6 & very good & 1 & 1 & 0 & 64 & 114 & 114 & 55 & f\\\\\n\\end{tabular}\n",
            "text/markdown": "\nA data.frame: 6 × 9\n\n| <!--/--> | genhlth &lt;fct&gt; | exerany &lt;dbl&gt; | hlthplan &lt;dbl&gt; | smoke100 &lt;dbl&gt; | height &lt;dbl&gt; | weight &lt;int&gt; | wtdesire &lt;int&gt; | age &lt;int&gt; | gender &lt;fct&gt; |\n|---|---|---|---|---|---|---|---|---|---|\n| 1 | good      | 0 | 1 | 0 | 70 | 175 | 175 | 77 | m |\n| 2 | good      | 0 | 1 | 1 | 64 | 125 | 115 | 33 | f |\n| 3 | good      | 1 | 1 | 1 | 60 | 105 | 105 | 49 | f |\n| 4 | good      | 1 | 1 | 0 | 66 | 132 | 124 | 42 | f |\n| 5 | very good | 0 | 1 | 0 | 61 | 150 | 130 | 55 | f |\n| 6 | very good | 1 | 1 | 0 | 64 | 114 | 114 | 55 | f |\n\n",
            "text/html": [
              "<table>\n",
              "<caption>A data.frame: 6 × 9</caption>\n",
              "<thead>\n",
              "\t<tr><th></th><th scope=col>genhlth</th><th scope=col>exerany</th><th scope=col>hlthplan</th><th scope=col>smoke100</th><th scope=col>height</th><th scope=col>weight</th><th scope=col>wtdesire</th><th scope=col>age</th><th scope=col>gender</th></tr>\n",
              "\t<tr><th></th><th scope=col>&lt;fct&gt;</th><th scope=col>&lt;dbl&gt;</th><th scope=col>&lt;dbl&gt;</th><th scope=col>&lt;dbl&gt;</th><th scope=col>&lt;dbl&gt;</th><th scope=col>&lt;int&gt;</th><th scope=col>&lt;int&gt;</th><th scope=col>&lt;int&gt;</th><th scope=col>&lt;fct&gt;</th></tr>\n",
              "</thead>\n",
              "<tbody>\n",
              "\t<tr><th scope=row>1</th><td>good     </td><td>0</td><td>1</td><td>0</td><td>70</td><td>175</td><td>175</td><td>77</td><td>m</td></tr>\n",
              "\t<tr><th scope=row>2</th><td>good     </td><td>0</td><td>1</td><td>1</td><td>64</td><td>125</td><td>115</td><td>33</td><td>f</td></tr>\n",
              "\t<tr><th scope=row>3</th><td>good     </td><td>1</td><td>1</td><td>1</td><td>60</td><td>105</td><td>105</td><td>49</td><td>f</td></tr>\n",
              "\t<tr><th scope=row>4</th><td>good     </td><td>1</td><td>1</td><td>0</td><td>66</td><td>132</td><td>124</td><td>42</td><td>f</td></tr>\n",
              "\t<tr><th scope=row>5</th><td>very good</td><td>0</td><td>1</td><td>0</td><td>61</td><td>150</td><td>130</td><td>55</td><td>f</td></tr>\n",
              "\t<tr><th scope=row>6</th><td>very good</td><td>1</td><td>1</td><td>0</td><td>64</td><td>114</td><td>114</td><td>55</td><td>f</td></tr>\n",
              "</tbody>\n",
              "</table>\n"
            ]
          },
          "metadata": {
            "tags": []
          }
        }
      ]
    },
    {
      "cell_type": "code",
      "metadata": {
        "id": "ZIjet7Tp_IQA",
        "colab_type": "code",
        "colab": {
          "base_uri": "https://localhost:8080/",
          "height": 207
        },
        "outputId": "89ea6eb8-0ab6-4ee0-8499-83cd2dada8e8"
      },
      "source": [
        "tail(cdc) # 20000 cases"
      ],
      "execution_count": 4,
      "outputs": [
        {
          "output_type": "display_data",
          "data": {
            "text/plain": [
              "      genhlth   exerany hlthplan smoke100 height weight wtdesire age gender\n",
              "19995 good      0       1        1        69     224    224      73  m     \n",
              "19996 good      1       1        0        66     215    140      23  f     \n",
              "19997 excellent 0       1        0        73     200    185      35  m     \n",
              "19998 poor      0       1        0        65     216    150      57  f     \n",
              "19999 good      1       1        0        67     165    165      81  f     \n",
              "20000 good      1       1        1        69     170    165      83  m     "
            ],
            "text/latex": "A data.frame: 6 × 9\n\\begin{tabular}{r|lllllllll}\n  & genhlth & exerany & hlthplan & smoke100 & height & weight & wtdesire & age & gender\\\\\n  & <fct> & <dbl> & <dbl> & <dbl> & <dbl> & <int> & <int> & <int> & <fct>\\\\\n\\hline\n\t19995 & good      & 0 & 1 & 1 & 69 & 224 & 224 & 73 & m\\\\\n\t19996 & good      & 1 & 1 & 0 & 66 & 215 & 140 & 23 & f\\\\\n\t19997 & excellent & 0 & 1 & 0 & 73 & 200 & 185 & 35 & m\\\\\n\t19998 & poor      & 0 & 1 & 0 & 65 & 216 & 150 & 57 & f\\\\\n\t19999 & good      & 1 & 1 & 0 & 67 & 165 & 165 & 81 & f\\\\\n\t20000 & good      & 1 & 1 & 1 & 69 & 170 & 165 & 83 & m\\\\\n\\end{tabular}\n",
            "text/markdown": "\nA data.frame: 6 × 9\n\n| <!--/--> | genhlth &lt;fct&gt; | exerany &lt;dbl&gt; | hlthplan &lt;dbl&gt; | smoke100 &lt;dbl&gt; | height &lt;dbl&gt; | weight &lt;int&gt; | wtdesire &lt;int&gt; | age &lt;int&gt; | gender &lt;fct&gt; |\n|---|---|---|---|---|---|---|---|---|---|\n| 19995 | good      | 0 | 1 | 1 | 69 | 224 | 224 | 73 | m |\n| 19996 | good      | 1 | 1 | 0 | 66 | 215 | 140 | 23 | f |\n| 19997 | excellent | 0 | 1 | 0 | 73 | 200 | 185 | 35 | m |\n| 19998 | poor      | 0 | 1 | 0 | 65 | 216 | 150 | 57 | f |\n| 19999 | good      | 1 | 1 | 0 | 67 | 165 | 165 | 81 | f |\n| 20000 | good      | 1 | 1 | 1 | 69 | 170 | 165 | 83 | m |\n\n",
            "text/html": [
              "<table>\n",
              "<caption>A data.frame: 6 × 9</caption>\n",
              "<thead>\n",
              "\t<tr><th></th><th scope=col>genhlth</th><th scope=col>exerany</th><th scope=col>hlthplan</th><th scope=col>smoke100</th><th scope=col>height</th><th scope=col>weight</th><th scope=col>wtdesire</th><th scope=col>age</th><th scope=col>gender</th></tr>\n",
              "\t<tr><th></th><th scope=col>&lt;fct&gt;</th><th scope=col>&lt;dbl&gt;</th><th scope=col>&lt;dbl&gt;</th><th scope=col>&lt;dbl&gt;</th><th scope=col>&lt;dbl&gt;</th><th scope=col>&lt;int&gt;</th><th scope=col>&lt;int&gt;</th><th scope=col>&lt;int&gt;</th><th scope=col>&lt;fct&gt;</th></tr>\n",
              "</thead>\n",
              "<tbody>\n",
              "\t<tr><th scope=row>19995</th><td>good     </td><td>0</td><td>1</td><td>1</td><td>69</td><td>224</td><td>224</td><td>73</td><td>m</td></tr>\n",
              "\t<tr><th scope=row>19996</th><td>good     </td><td>1</td><td>1</td><td>0</td><td>66</td><td>215</td><td>140</td><td>23</td><td>f</td></tr>\n",
              "\t<tr><th scope=row>19997</th><td>excellent</td><td>0</td><td>1</td><td>0</td><td>73</td><td>200</td><td>185</td><td>35</td><td>m</td></tr>\n",
              "\t<tr><th scope=row>19998</th><td>poor     </td><td>0</td><td>1</td><td>0</td><td>65</td><td>216</td><td>150</td><td>57</td><td>f</td></tr>\n",
              "\t<tr><th scope=row>19999</th><td>good     </td><td>1</td><td>1</td><td>0</td><td>67</td><td>165</td><td>165</td><td>81</td><td>f</td></tr>\n",
              "\t<tr><th scope=row>20000</th><td>good     </td><td>1</td><td>1</td><td>1</td><td>69</td><td>170</td><td>165</td><td>83</td><td>m</td></tr>\n",
              "</tbody>\n",
              "</table>\n"
            ]
          },
          "metadata": {
            "tags": []
          }
        }
      ]
    },
    {
      "cell_type": "markdown",
      "metadata": {
        "id": "XhtkGwLKDJg-",
        "colab_type": "text"
      },
      "source": [
        "General data summary."
      ]
    },
    {
      "cell_type": "code",
      "metadata": {
        "id": "u7YZlMoXMzQ8",
        "colab_type": "code",
        "colab": {
          "base_uri": "https://localhost:8080/",
          "height": 191
        },
        "outputId": "b5772e98-55dc-4999-a78e-e895acff1a02"
      },
      "source": [
        "str(cdc)"
      ],
      "execution_count": 33,
      "outputs": [
        {
          "output_type": "stream",
          "text": [
            "'data.frame':\t20000 obs. of  9 variables:\n",
            " $ genhlth : Factor w/ 5 levels \"excellent\",\"very good\",..: 3 3 3 3 2 2 2 2 3 3 ...\n",
            " $ exerany : num  0 0 1 1 0 1 1 0 0 1 ...\n",
            " $ hlthplan: num  1 1 1 1 1 1 1 1 1 1 ...\n",
            " $ smoke100: num  0 1 1 0 0 0 0 0 1 0 ...\n",
            " $ height  : num  70 64 60 66 61 64 71 67 65 70 ...\n",
            " $ weight  : int  175 125 105 132 150 114 194 170 150 180 ...\n",
            " $ wtdesire: int  175 115 105 124 130 114 185 160 130 170 ...\n",
            " $ age     : int  77 33 49 42 55 55 31 45 27 44 ...\n",
            " $ gender  : Factor w/ 2 levels \"m\",\"f\": 1 2 2 2 2 2 1 1 2 1 ...\n"
          ],
          "name": "stdout"
        }
      ]
    },
    {
      "cell_type": "code",
      "metadata": {
        "id": "KoOCx-uRNUCs",
        "colab_type": "code",
        "colab": {
          "base_uri": "https://localhost:8080/",
          "height": 260
        },
        "outputId": "401ef4c5-0133-4048-ad06-253b68fb7c09"
      },
      "source": [
        "library(dplyr)"
      ],
      "execution_count": 34,
      "outputs": [
        {
          "output_type": "stream",
          "text": [
            "\n",
            "Attaching package: ‘dplyr’\n",
            "\n",
            "\n",
            "The following objects are masked from ‘package:stats’:\n",
            "\n",
            "    filter, lag\n",
            "\n",
            "\n",
            "The following objects are masked from ‘package:base’:\n",
            "\n",
            "    intersect, setdiff, setequal, union\n",
            "\n",
            "\n"
          ],
          "name": "stderr"
        }
      ]
    },
    {
      "cell_type": "code",
      "metadata": {
        "id": "eVa0EtDbNaEi",
        "colab_type": "code",
        "colab": {
          "base_uri": "https://localhost:8080/",
          "height": 208
        },
        "outputId": "8d7a227f-79d9-4f1c-8e69-bffd8e292794"
      },
      "source": [
        "glimpse(cdc)"
      ],
      "execution_count": 35,
      "outputs": [
        {
          "output_type": "stream",
          "text": [
            "Rows: 20,000\n",
            "Columns: 9\n",
            "$ genhlth  \u001b[3m\u001b[90m<fct>\u001b[39m\u001b[23m good, good, good, good, very good, very good, very good, ver…\n",
            "$ exerany  \u001b[3m\u001b[90m<dbl>\u001b[39m\u001b[23m 0, 0, 1, 1, 0, 1, 1, 0, 0, 1, 1, 1, 1, 1, 1, 1, 0, 0, 1, 1, …\n",
            "$ hlthplan \u001b[3m\u001b[90m<dbl>\u001b[39m\u001b[23m 1, 1, 1, 1, 1, 1, 1, 1, 1, 1, 1, 1, 0, 1, 0, 1, 0, 1, 1, 1, …\n",
            "$ smoke100 \u001b[3m\u001b[90m<dbl>\u001b[39m\u001b[23m 0, 1, 1, 0, 0, 0, 0, 0, 1, 0, 1, 1, 1, 1, 0, 1, 1, 1, 1, 0, …\n",
            "$ height   \u001b[3m\u001b[90m<dbl>\u001b[39m\u001b[23m 70, 64, 60, 66, 61, 64, 71, 67, 65, 70, 69, 69, 66, 70, 69, …\n",
            "$ weight   \u001b[3m\u001b[90m<int>\u001b[39m\u001b[23m 175, 125, 105, 132, 150, 114, 194, 170, 150, 180, 186, 168, …\n",
            "$ wtdesire \u001b[3m\u001b[90m<int>\u001b[39m\u001b[23m 175, 115, 105, 124, 130, 114, 185, 160, 130, 170, 175, 148, …\n",
            "$ age      \u001b[3m\u001b[90m<int>\u001b[39m\u001b[23m 77, 33, 49, 42, 55, 55, 31, 45, 27, 44, 46, 62, 21, 69, 23, …\n",
            "$ gender   \u001b[3m\u001b[90m<fct>\u001b[39m\u001b[23m m, f, f, f, f, f, m, m, f, m, m, m, m, m, m, m, m, m, m, f, …\n"
          ],
          "name": "stdout"
        }
      ]
    },
    {
      "cell_type": "markdown",
      "metadata": {
        "id": "iUIzGUxKKIGx",
        "colab_type": "text"
      },
      "source": [
        "**Answer**: \n",
        "There are 20000 cases and 9 variables in this dataset.\n"
      ]
    },
    {
      "cell_type": "code",
      "metadata": {
        "id": "-Hxi38QFAYNA",
        "colab_type": "code",
        "colab": {
          "base_uri": "https://localhost:8080/",
          "height": 260
        },
        "outputId": "334c6c8a-8c73-4a36-81aa-0d59a8335dcf"
      },
      "source": [
        "summary(cdc)"
      ],
      "execution_count": 6,
      "outputs": [
        {
          "output_type": "display_data",
          "data": {
            "text/plain": [
              "      genhlth        exerany          hlthplan         smoke100     \n",
              " excellent:4657   Min.   :0.0000   Min.   :0.0000   Min.   :0.0000  \n",
              " very good:6972   1st Qu.:0.0000   1st Qu.:1.0000   1st Qu.:0.0000  \n",
              " good     :5675   Median :1.0000   Median :1.0000   Median :0.0000  \n",
              " fair     :2019   Mean   :0.7457   Mean   :0.8738   Mean   :0.4721  \n",
              " poor     : 677   3rd Qu.:1.0000   3rd Qu.:1.0000   3rd Qu.:1.0000  \n",
              "                  Max.   :1.0000   Max.   :1.0000   Max.   :1.0000  \n",
              "     height          weight         wtdesire          age        gender   \n",
              " Min.   :48.00   Min.   : 68.0   Min.   : 68.0   Min.   :18.00   m: 9569  \n",
              " 1st Qu.:64.00   1st Qu.:140.0   1st Qu.:130.0   1st Qu.:31.00   f:10431  \n",
              " Median :67.00   Median :165.0   Median :150.0   Median :43.00            \n",
              " Mean   :67.18   Mean   :169.7   Mean   :155.1   Mean   :45.07            \n",
              " 3rd Qu.:70.00   3rd Qu.:190.0   3rd Qu.:175.0   3rd Qu.:57.00            \n",
              " Max.   :93.00   Max.   :500.0   Max.   :680.0   Max.   :99.00            "
            ]
          },
          "metadata": {
            "tags": []
          }
        }
      ]
    },
    {
      "cell_type": "markdown",
      "metadata": {
        "id": "HXXaSEp8DRtm",
        "colab_type": "text"
      },
      "source": [
        "Summary of a specific variable:"
      ]
    },
    {
      "cell_type": "code",
      "metadata": {
        "id": "bNeyW7Uc_KIk",
        "colab_type": "code",
        "colab": {
          "base_uri": "https://localhost:8080/",
          "height": 52
        },
        "outputId": "4fb89583-a7eb-4736-ee84-4a27be6631b7"
      },
      "source": [
        "summary(cdc$weight)"
      ],
      "execution_count": 5,
      "outputs": [
        {
          "output_type": "display_data",
          "data": {
            "text/plain": [
              "   Min. 1st Qu.  Median    Mean 3rd Qu.    Max. \n",
              "   68.0   140.0   165.0   169.7   190.0   500.0 "
            ]
          },
          "metadata": {
            "tags": []
          }
        }
      ]
    },
    {
      "cell_type": "code",
      "metadata": {
        "id": "ttslizJFBTPk",
        "colab_type": "code",
        "colab": {
          "base_uri": "https://localhost:8080/",
          "height": 34
        },
        "outputId": "ecf65200-571f-4a0f-bf3e-90029021ca88"
      },
      "source": [
        "# interquartile range = 3rd Qu - 1st Qu\n",
        "IQR_weight <- (190-140)\n",
        "IQR_weight"
      ],
      "execution_count": 7,
      "outputs": [
        {
          "output_type": "display_data",
          "data": {
            "text/plain": [
              "[1] 50"
            ],
            "text/latex": "50",
            "text/markdown": "50",
            "text/html": [
              "50"
            ]
          },
          "metadata": {
            "tags": []
          }
        }
      ]
    },
    {
      "cell_type": "markdown",
      "metadata": {
        "id": "coILWkEDDgVQ",
        "colab_type": "text"
      },
      "source": [
        "Some bulitin functions to explore tha data:"
      ]
    },
    {
      "cell_type": "code",
      "metadata": {
        "id": "kMwkhppUB_Ag",
        "colab_type": "code",
        "colab": {
          "base_uri": "https://localhost:8080/",
          "height": 69
        },
        "outputId": "4645e3a6-5132-4955-dda2-29b5dd25c38c"
      },
      "source": [
        "mean(cdc$weight) \n",
        "median(cdc$weight)\n",
        "var(cdc$weight)"
      ],
      "execution_count": 9,
      "outputs": [
        {
          "output_type": "display_data",
          "data": {
            "text/plain": [
              "[1] 169.683"
            ],
            "text/latex": "169.68295",
            "text/markdown": "169.68295",
            "text/html": [
              "169.68295"
            ]
          },
          "metadata": {
            "tags": []
          }
        },
        {
          "output_type": "display_data",
          "data": {
            "text/plain": [
              "[1] 165"
            ],
            "text/latex": "165",
            "text/markdown": "165",
            "text/html": [
              "165"
            ]
          },
          "metadata": {
            "tags": []
          }
        },
        {
          "output_type": "display_data",
          "data": {
            "text/plain": [
              "[1] 1606.484"
            ],
            "text/latex": "1606.48415350518",
            "text/markdown": "1606.48415350518",
            "text/html": [
              "1606.48415350518"
            ]
          },
          "metadata": {
            "tags": []
          }
        }
      ]
    },
    {
      "cell_type": "markdown",
      "metadata": {
        "id": "XOtqsZs9Cuy-",
        "colab_type": "text"
      },
      "source": [
        "Number of people who have smoked 100 cigarettes in their lifetime,  **smoke100** variable."
      ]
    },
    {
      "cell_type": "code",
      "metadata": {
        "id": "Jb5CzzqgCjvk",
        "colab_type": "code",
        "colab": {
          "base_uri": "https://localhost:8080/",
          "height": 69
        },
        "outputId": "8714fb11-c909-490f-83d1-c3e53e12f647"
      },
      "source": [
        "table(cdc$smoke100)"
      ],
      "execution_count": 11,
      "outputs": [
        {
          "output_type": "display_data",
          "data": {
            "text/plain": [
              "\n",
              "    0     1 \n",
              "10559  9441 "
            ]
          },
          "metadata": {
            "tags": []
          }
        }
      ]
    },
    {
      "cell_type": "markdown",
      "metadata": {
        "id": "8rpvrHqBCyR4",
        "colab_type": "text"
      },
      "source": [
        "Relative frequency distribution of people who have smoked 100 cigarettes in their lifetime, **smoke100** variable"
      ]
    },
    {
      "cell_type": "code",
      "metadata": {
        "id": "lu3MhPUvCRu9",
        "colab_type": "code",
        "colab": {
          "base_uri": "https://localhost:8080/",
          "height": 69
        },
        "outputId": "ecd4dfba-109b-4987-b43c-44e45cf5cdaf"
      },
      "source": [
        "table(cdc$smoke100)/20000"
      ],
      "execution_count": 12,
      "outputs": [
        {
          "output_type": "display_data",
          "data": {
            "text/plain": [
              "\n",
              "      0       1 \n",
              "0.52795 0.47205 "
            ]
          },
          "metadata": {
            "tags": []
          }
        }
      ]
    },
    {
      "cell_type": "markdown",
      "metadata": {
        "id": "JssuMH7fD4WT",
        "colab_type": "text"
      },
      "source": [
        "Criating a bar plot from **smoke100** variable:"
      ]
    },
    {
      "cell_type": "code",
      "metadata": {
        "id": "7u1QZQVeDrZk",
        "colab_type": "code",
        "colab": {
          "base_uri": "https://localhost:8080/",
          "height": 437
        },
        "outputId": "dc02976b-f355-4624-88ae-9c13a49589fd"
      },
      "source": [
        "smoke <- table(cdc$smoke100)\n",
        "\n",
        "barplot(smoke)"
      ],
      "execution_count": 13,
      "outputs": [
        {
          "output_type": "display_data",
          "data": {
            "image/png": "[encoded data removed]",
            "text/plain": [
              "plot without title"
            ]
          },
          "metadata": {
            "tags": [],
            "image/png": {
              "width": 420,
              "height": 420
            },
            "text/plain": {
              "width": 420,
              "height": 420
            }
          }
        }
      ]
    },
    {
      "cell_type": "markdown",
      "metadata": {
        "id": "uRFBsnjTEZhH",
        "colab_type": "text"
      },
      "source": [
        "### **Exercise 2** ### \n",
        "Create a numerical summary for `height` and `age`, and compute the interquartile range for each. Compute the relative frequency distribution for `gender` and `exerany`. How many males are in the sample? What proportion of the sample reports being in excellent health?"
      ]
    },
    {
      "cell_type": "code",
      "metadata": {
        "id": "4kIbVrRXG-r0",
        "colab_type": "code",
        "colab": {
          "base_uri": "https://localhost:8080/",
          "height": 52
        },
        "outputId": "7a971ceb-e07c-4ab3-cb93-563d8cda40b0"
      },
      "source": [
        "summary(cdc$height)\n"
      ],
      "execution_count": 22,
      "outputs": [
        {
          "output_type": "display_data",
          "data": {
            "text/plain": [
              "   Min. 1st Qu.  Median    Mean 3rd Qu.    Max. \n",
              "  48.00   64.00   67.00   67.18   70.00   93.00 "
            ]
          },
          "metadata": {
            "tags": []
          }
        }
      ]
    },
    {
      "cell_type": "code",
      "metadata": {
        "id": "373wBd8ZHZla",
        "colab_type": "code",
        "colab": {
          "base_uri": "https://localhost:8080/",
          "height": 34
        },
        "outputId": "b9d2c2c8-5364-4461-de44-645f792a7775"
      },
      "source": [
        "# interquartile range = 3rd Qu - 1st Qu\n",
        "IQR_height <- (70-64)\n",
        "IQR_height"
      ],
      "execution_count": 19,
      "outputs": [
        {
          "output_type": "display_data",
          "data": {
            "text/plain": [
              "[1] 6"
            ],
            "text/latex": "6",
            "text/markdown": "6",
            "text/html": [
              "6"
            ]
          },
          "metadata": {
            "tags": []
          }
        }
      ]
    },
    {
      "cell_type": "code",
      "metadata": {
        "id": "0YbkpBP2H_ls",
        "colab_type": "code",
        "colab": {
          "base_uri": "https://localhost:8080/",
          "height": 52
        },
        "outputId": "54395ec7-e3c3-49df-ea3b-653ab1886503"
      },
      "source": [
        "summary(cdc$age)"
      ],
      "execution_count": 23,
      "outputs": [
        {
          "output_type": "display_data",
          "data": {
            "text/plain": [
              "   Min. 1st Qu.  Median    Mean 3rd Qu.    Max. \n",
              "  18.00   31.00   43.00   45.07   57.00   99.00 "
            ]
          },
          "metadata": {
            "tags": []
          }
        }
      ]
    },
    {
      "cell_type": "code",
      "metadata": {
        "id": "OK0k_D3IHk7j",
        "colab_type": "code",
        "colab": {
          "base_uri": "https://localhost:8080/",
          "height": 34
        },
        "outputId": "11c489e6-5546-40b6-de56-e2fd70ab29b2"
      },
      "source": [
        "# interquartile range = 3rd Qu - 1st Qu\n",
        "IQR_age <- (57-31)\n",
        "IQR_age"
      ],
      "execution_count": 21,
      "outputs": [
        {
          "output_type": "display_data",
          "data": {
            "text/plain": [
              "[1] 26"
            ],
            "text/latex": "26",
            "text/markdown": "26",
            "text/html": [
              "26"
            ]
          },
          "metadata": {
            "tags": []
          }
        }
      ]
    },
    {
      "cell_type": "code",
      "metadata": {
        "id": "aGLT4RFoIoUd",
        "colab_type": "code",
        "colab": {
          "base_uri": "https://localhost:8080/",
          "height": 69
        },
        "outputId": "d77bab40-898c-409c-b6ea-78b61ed3e0fe"
      },
      "source": [
        "table(cdc$gender)"
      ],
      "execution_count": 26,
      "outputs": [
        {
          "output_type": "display_data",
          "data": {
            "text/plain": [
              "\n",
              "    m     f \n",
              " 9569 10431 "
            ]
          },
          "metadata": {
            "tags": []
          }
        }
      ]
    },
    {
      "cell_type": "markdown",
      "metadata": {
        "id": "_NvdAwPPIsYr",
        "colab_type": "text"
      },
      "source": [
        "**Answer**: There are 9569 males."
      ]
    },
    {
      "cell_type": "code",
      "metadata": {
        "id": "3I5dmmqcIU5C",
        "colab_type": "code",
        "colab": {
          "base_uri": "https://localhost:8080/",
          "height": 69
        },
        "outputId": "c893bfd6-5ed7-4aaa-95ad-ddcf8e03c02e"
      },
      "source": [
        "table(cdc$gender)/20000"
      ],
      "execution_count": 24,
      "outputs": [
        {
          "output_type": "display_data",
          "data": {
            "text/plain": [
              "\n",
              "      m       f \n",
              "0.47845 0.52155 "
            ]
          },
          "metadata": {
            "tags": []
          }
        }
      ]
    },
    {
      "cell_type": "code",
      "metadata": {
        "id": "k4sbNuqWIZyu",
        "colab_type": "code",
        "colab": {
          "base_uri": "https://localhost:8080/",
          "height": 69
        },
        "outputId": "bd5eee7a-3410-4b7d-9f8f-58393c4f6aff"
      },
      "source": [
        "table(cdc$exerany)/20000"
      ],
      "execution_count": 25,
      "outputs": [
        {
          "output_type": "display_data",
          "data": {
            "text/plain": [
              "\n",
              "     0      1 \n",
              "0.2543 0.7457 "
            ]
          },
          "metadata": {
            "tags": []
          }
        }
      ]
    },
    {
      "cell_type": "code",
      "metadata": {
        "id": "iPIT2n6tJXTL",
        "colab_type": "code",
        "colab": {
          "base_uri": "https://localhost:8080/",
          "height": 34
        },
        "outputId": "ee29b86a-6684-42a1-f794-e4fa2461a3e0"
      },
      "source": [
        "summary(cdc$genhlth) / 20000"
      ],
      "execution_count": 28,
      "outputs": [
        {
          "output_type": "display_data",
          "data": {
            "text/plain": [
              "excellent very good      good      fair      poor \n",
              "  0.23285   0.34860   0.28375   0.10095   0.03385 "
            ],
            "text/latex": "\\begin{description*}\n\\item[excellent] 0.23285\n\\item[very good] 0.3486\n\\item[good] 0.28375\n\\item[fair] 0.10095\n\\item[poor] 0.03385\n\\end{description*}\n",
            "text/markdown": "excellent\n:   0.23285very good\n:   0.3486good\n:   0.28375fair\n:   0.10095poor\n:   0.03385\n\n",
            "text/html": [
              "<style>\n",
              ".dl-inline {width: auto; margin:0; padding: 0}\n",
              ".dl-inline>dt, .dl-inline>dd {float: none; width: auto; display: inline-block}\n",
              ".dl-inline>dt::after {content: \":\\0020\"; padding-right: .5ex}\n",
              ".dl-inline>dt:not(:first-of-type) {padding-left: .5ex}\n",
              "</style><dl class=dl-inline><dt>excellent</dt><dd>0.23285</dd><dt>very good</dt><dd>0.3486</dd><dt>good</dt><dd>0.28375</dd><dt>fair</dt><dd>0.10095</dd><dt>poor</dt><dd>0.03385</dd></dl>\n"
            ]
          },
          "metadata": {
            "tags": []
          }
        }
      ]
    },
    {
      "cell_type": "markdown",
      "metadata": {
        "id": "BOKMhNryJczC",
        "colab_type": "text"
      },
      "source": [
        "**Answer**: the proportion of the sample reports being in excellent health = 0.23285 or 23%.\n",
        "\n"
      ]
    },
    {
      "cell_type": "markdown",
      "metadata": {
        "id": "KCSlEZe6GKjv",
        "colab_type": "text"
      },
      "source": [
        "### **Exercise 3** ### \n",
        "What does the mosaic plot reveal about smoking habits and gender?"
      ]
    },
    {
      "cell_type": "code",
      "metadata": {
        "id": "wqJWV4SREWpH",
        "colab_type": "code",
        "colab": {
          "base_uri": "https://localhost:8080/",
          "height": 86
        },
        "outputId": "8af6e06e-5e57-473f-f8ec-0a45abde36bb"
      },
      "source": [
        "gender_smoke <- table(cdc$gender,cdc$smoke100)\n",
        "gender_smoke"
      ],
      "execution_count": 15,
      "outputs": [
        {
          "output_type": "display_data",
          "data": {
            "text/plain": [
              "   \n",
              "       0    1\n",
              "  m 4547 5022\n",
              "  f 6012 4419"
            ]
          },
          "metadata": {
            "tags": []
          }
        }
      ]
    },
    {
      "cell_type": "code",
      "metadata": {
        "id": "8rQws0kgFzAl",
        "colab_type": "code",
        "colab": {
          "base_uri": "https://localhost:8080/",
          "height": 437
        },
        "outputId": "df7f3fb6-b4fe-4e66-b8a2-049bf29b4078"
      },
      "source": [
        "mosaicplot(gender_smoke) #  column labels: 0 and 1. 1 indicates a respondent has smoked at least 100 cigarettes."
      ],
      "execution_count": 16,
      "outputs": [
        {
          "output_type": "display_data",
          "data": {
            "image/png": "[encoded data removed]",
            "text/plain": [
              "Plot with title “gender_smoke”"
            ]
          },
          "metadata": {
            "tags": [],
            "image/png": {
              "width": 420,
              "height": 420
            },
            "text/plain": {
              "width": 420,
              "height": 420
            }
          }
        }
      ]
    },
    {
      "cell_type": "markdown",
      "metadata": {
        "id": "81QkkYlCGP6d",
        "colab_type": "text"
      },
      "source": [
        "**Answer**: It seems that men smoke more often than women."
      ]
    }
  ]
}